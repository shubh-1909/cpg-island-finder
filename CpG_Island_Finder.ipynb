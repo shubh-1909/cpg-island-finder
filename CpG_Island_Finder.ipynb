{
  "nbformat": 4,
  "nbformat_minor": 0,
  "metadata": {
    "colab": {
      "provenance": []
    },
    "kernelspec": {
      "name": "python3",
      "display_name": "Python 3"
    },
    "language_info": {
      "name": "python"
    }
  },
  "cells": [
    {
      "cell_type": "markdown",
      "source": [
        "# 🧬 CpG Island Finder & GC/CpG Ratio Plotter\n",
        "\n",
        "This notebook reads a **DNA FASTA sequence**, scans it in sliding windows, computes **GC content** and **CpG observed/expected ratio**, and identifies regions that qualify as **CpG islands**.\n",
        "\n",
        "It also generates:\n",
        "- 📊 GC content plot\n",
        "- 📊 CpG ratio plot\n",
        "- 📝 Table of detected CpG islands\n",
        "\n",
        "---\n",
        "\n",
        "## Criteria for CpG islands\n",
        "- GC content > **50%**\n",
        "- CpG observed/expected ratio > **0.6**\n",
        "- Length > **200 bp**\n"
      ],
      "metadata": {
        "id": "YFeHqaz5E4p7"
      }
    },
    {
      "cell_type": "code",
      "source": [
        "!pip install biopython pandas matplotlib seaborn"
      ],
      "metadata": {
        "id": "Hc1ggitYHpul"
      },
      "execution_count": null,
      "outputs": []
    },
    {
      "cell_type": "code",
      "source": [
        "from Bio import SeqIO\n",
        "import pandas as pd\n",
        "import matplotlib.pyplot as plt\n",
        "import seaborn as sns\n",
        "from google.colab import files"
      ],
      "metadata": {
        "id": "FN_nkHuME_zN"
      },
      "execution_count": null,
      "outputs": []
    },
    {
      "cell_type": "markdown",
      "source": [
        "## 📂 Upload FASTA file\n",
        "Upload a DNA FASTA file (single sequence) to scan for CpG islands."
      ],
      "metadata": {
        "id": "2dYMpjpHFCbs"
      }
    },
    {
      "cell_type": "code",
      "source": [
        "uploaded = files.upload()\n",
        "filename = list(uploaded.keys())[0]\n",
        "print(f\"Loaded: {filename}\")"
      ],
      "metadata": {
        "id": "hNGI9lg5FFNr"
      },
      "execution_count": null,
      "outputs": []
    },
    {
      "cell_type": "code",
      "source": [
        "record = next(SeqIO.parse(filename, \"fasta\"))\n",
        "sequence = str(record.seq).upper()\n",
        "print(f\"Sequence length: {len(sequence)} bp\")"
      ],
      "metadata": {
        "id": "bOSfQ6zVFOfo"
      },
      "execution_count": null,
      "outputs": []
    },
    {
      "cell_type": "markdown",
      "source": [
        "## 🔍 Compute GC content & CpG ratio in sliding windows\n",
        "- Using window size = **200 bp**\n",
        "- Step size = **50 bp**"
      ],
      "metadata": {
        "id": "_m9OqatyFXON"
      }
    },
    {
      "cell_type": "code",
      "source": [
        "window_size = 200\n",
        "step_size = 50\n",
        "\n",
        "gc_contents = []\n",
        "cpg_ratios = []\n",
        "positions = []\n",
        "\n",
        "for start in range(0, len(sequence) - window_size + 1, step_size):\n",
        "    window_seq = sequence[start:start+window_size]\n",
        "    gc = (window_seq.count('G') + window_seq.count('C')) / len(window_seq)\n",
        "\n",
        "    c_count = window_seq.count('C')\n",
        "    g_count = window_seq.count('G')\n",
        "    cg_count = sum(1 for i in range(len(window_seq)-1) if window_seq[i:i+2] == \"CG\")\n",
        "\n",
        "    exp_cpg = (c_count * g_count) / len(window_seq) if len(window_seq) else 0\n",
        "    cpg_ratio = (cg_count / exp_cpg) if exp_cpg else 0\n",
        "\n",
        "    gc_contents.append(gc)\n",
        "    cpg_ratios.append(cpg_ratio)\n",
        "    positions.append(start)"
      ],
      "metadata": {
        "id": "6nJYneuTFbkZ"
      },
      "execution_count": null,
      "outputs": []
    },
    {
      "cell_type": "code",
      "source": [
        "sns.set(style=\"whitegrid\")\n",
        "plt.figure(figsize=(12,5))\n",
        "plt.plot(positions, [gc*100 for gc in gc_contents], label=\"GC Content (%)\")\n",
        "plt.axhline(50, color='red', linestyle='--', label=\"50% GC threshold\")\n",
        "plt.ylabel(\"GC Content (%)\")\n",
        "plt.xlabel(\"Position\")\n",
        "plt.legend()\n",
        "plt.show()\n",
        "\n",
        "plt.figure(figsize=(12,5))\n",
        "plt.plot(positions, cpg_ratios, label=\"CpG Observed/Expected Ratio\")\n",
        "plt.axhline(0.6, color='purple', linestyle='--', label=\"0.6 CpG threshold\")\n",
        "plt.ylabel(\"CpG Ratio\")\n",
        "plt.xlabel(\"Position\")\n",
        "plt.legend()\n",
        "plt.show()"
      ],
      "metadata": {
        "id": "GIVT1B3gFl-g"
      },
      "execution_count": null,
      "outputs": []
    },
    {
      "cell_type": "markdown",
      "source": [
        "## 🧬 Identify CpG islands\n",
        "Regions meeting:\n",
        "- GC > **50%**\n",
        "- CpG ratio > **0.6**\n",
        "- Length >= **200 bp**\n"
      ],
      "metadata": {
        "id": "iFw2de0CFfaL"
      }
    },
    {
      "cell_type": "code",
      "source": [
        "islands = []\n",
        "for pos, gc, cpg in zip(positions, gc_contents, cpg_ratios):\n",
        "    if gc > 0.5 and cpg > 0.6:\n",
        "        islands.append({\n",
        "            \"Start\": pos,\n",
        "            \"End\": pos + window_size,\n",
        "            \"Length\": window_size,\n",
        "            \"GC Content (%)\": round(gc*100,2),\n",
        "            \"CpG Ratio\": round(cpg,2)\n",
        "        })\n",
        "\n",
        "df_islands = pd.DataFrame(islands)\n",
        "df_islands"
      ],
      "metadata": {
        "id": "qU2YilDRFurr"
      },
      "execution_count": null,
      "outputs": []
    },
    {
      "cell_type": "code",
      "source": [
        "df_islands.to_csv(\"cpg_islands_results.csv\", index=False)\n",
        "files.download(\"cpg_islands_results.csv\")"
      ],
      "metadata": {
        "id": "qTXqY-6RFxvQ"
      },
      "execution_count": null,
      "outputs": []
    },
    {
      "cell_type": "markdown",
      "source": [
        "# ✅ Summary\n",
        "- ✅ Computed sliding window GC content & CpG ratio.\n",
        "- ✅ Identified regions matching standard CpG island criteria.\n",
        "- ✅ Plotted GC content & CpG ratio across the sequence.\n",
        "- ✅ Saved results to a CSV file for further analysis.\n",
        "\n",
        "\n"
      ],
      "metadata": {
        "id": "DaoNs8IPF2cY"
      }
    }
  ]
}